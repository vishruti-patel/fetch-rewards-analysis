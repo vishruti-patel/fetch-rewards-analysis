{
 "cells": [
  {
   "cell_type": "markdown",
   "id": "150c9d7c",
   "metadata": {},
   "source": [
    "## Loading the json data"
   ]
  },
  {
   "cell_type": "code",
   "execution_count": 7,
   "id": "9a51cecc",
   "metadata": {},
   "outputs": [
    {
     "name": "stdout",
     "output_type": "stream",
     "text": [
      "Success: JSON Loaded from users.json\n",
      "Success: JSON Loaded from brands.json\n",
      "Success: JSON Loaded from receipts.json\n"
     ]
    }
   ],
   "source": [
    "import pandas as pd\n",
    "import json\n",
    "\n",
    "#Loading the json files\n",
    "def load_json_file(file_path): \n",
    "    try:\n",
    "        with open(file_path, \"r\", encoding=\"utf-8\") as file:\n",
    "            data = [json.loads(line) for line in file]  \n",
    "        print(f\"Success: JSON Loaded from {file_path}\")\n",
    "        return data\n",
    "    except json.JSONDecodeError as e:\n",
    "        print(f\"Failed: Error loading JSON from {file_path}: {e}\")  # Handle JSON formatting errors\n",
    "        return None\n",
    "    except FileNotFoundError:\n",
    "        print(f\"File not found: {file_path}\")   # Handle missing files\n",
    "        return None\n",
    "    except Exception as e:\n",
    "        print(f\"An unexpected error occurred: {e}\") # Catch any other unexpected errors\n",
    "        return None\n",
    "    \n",
    "# Load JSON files into Python lists\n",
    "users_data = load_json_file(\"users.json\")\n",
    "brands_data = load_json_file(\"brands.json\")\n",
    "receipts_data = load_json_file(\"receipts.json\")"
   ]
  },
  {
   "cell_type": "markdown",
   "id": "314814b0",
   "metadata": {},
   "source": [
    "## Read and normalize the json data"
   ]
  },
  {
   "cell_type": "code",
   "execution_count": 8,
   "id": "47a5db48",
   "metadata": {},
   "outputs": [
    {
     "name": "stdout",
     "output_type": "stream",
     "text": [
      "\n",
      "Preview of users.json:\n",
      "   active      role signUpSource state                  _id_$oid  \\\n",
      "0    True  consumer        Email    WI  5ff1e194b6a9d73a3a9f1052   \n",
      "1    True  consumer        Email    WI  5ff1e194b6a9d73a3a9f1052   \n",
      "2    True  consumer        Email    WI  5ff1e194b6a9d73a3a9f1052   \n",
      "3    True  consumer        Email    WI  5ff1e1eacfcf6c399c274ae6   \n",
      "4    True  consumer        Email    WI  5ff1e194b6a9d73a3a9f1052   \n",
      "\n",
      "   createdDate_$date  lastLogin_$date  lastLogin  \n",
      "0      1609687444800     1.609688e+12        NaN  \n",
      "1      1609687444800     1.609688e+12        NaN  \n",
      "2      1609687444800     1.609688e+12        NaN  \n",
      "3      1609687530554     1.609688e+12        NaN  \n",
      "4      1609687444800     1.609688e+12        NaN  \n",
      "\n",
      "Preview of brands.json:\n",
      "        barcode        category      categoryCode                       name  \\\n",
      "0  511111019862          Baking            BAKING  test brand @1612366101024   \n",
      "1  511111519928       Beverages         BEVERAGES                  Starbucks   \n",
      "2  511111819905          Baking            BAKING  test brand @1612366146176   \n",
      "3  511111519874          Baking            BAKING  test brand @1612366146051   \n",
      "4  511111319917  Candy & Sweets  CANDY_AND_SWEETS  test brand @1612366146827   \n",
      "\n",
      "   topBrand                      brandCode                  _id_$oid  \\\n",
      "0       0.0                            NaN  601ac115be37ce2ead437551   \n",
      "1       0.0                      STARBUCKS  601c5460be37ce2ead43755f   \n",
      "2       0.0  TEST BRANDCODE @1612366146176  601ac142be37ce2ead43755d   \n",
      "3       0.0  TEST BRANDCODE @1612366146051  601ac142be37ce2ead43755a   \n",
      "4       0.0  TEST BRANDCODE @1612366146827  601ac142be37ce2ead43755e   \n",
      "\n",
      "               cpg_$id_$oid cpg_$ref  \n",
      "0  601ac114be37ce2ead437550     Cogs  \n",
      "1  5332f5fbe4b03c9a25efd0ba     Cogs  \n",
      "2  601ac142be37ce2ead437559     Cogs  \n",
      "3  601ac142be37ce2ead437559     Cogs  \n",
      "4  5332fa12e4b03c9a25efd1e7     Cogs  \n",
      "\n",
      "Preview of receipts.json:\n",
      "        barcode                                        description finalPrice  \\\n",
      "0          4011                                     ITEM NOT FOUND      26.00   \n",
      "1          4011                                     ITEM NOT FOUND          1   \n",
      "2  028400642255  DORITOS TORTILLA CHIP SPICY SWEET CHILI REDUCE...      10.00   \n",
      "3           NaN                                                NaN        NaN   \n",
      "4          4011                                     ITEM NOT FOUND      28.00   \n",
      "\n",
      "  itemPrice needsFetchReview partnerItemId preventTargetGapPoints  \\\n",
      "0     26.00            False             1                   True   \n",
      "1         1              NaN             1                    NaN   \n",
      "2     10.00             True             2                   True   \n",
      "3       NaN            False             1                   True   \n",
      "4     28.00            False             1                   True   \n",
      "\n",
      "   quantityPurchased userFlaggedBarcode userFlaggedNewItem  ... itemNumber  \\\n",
      "0                5.0               4011               True  ...        NaN   \n",
      "1                1.0                NaN                NaN  ...        NaN   \n",
      "2                1.0       028400642255               True  ...        NaN   \n",
      "3                NaN               4011               True  ...        NaN   \n",
      "4                4.0               4011               True  ...        NaN   \n",
      "\n",
      "   originalMetaBriteQuantityPurchased pointsEarned targetPrice  \\\n",
      "0                                 NaN          NaN         NaN   \n",
      "1                                 NaN          NaN         NaN   \n",
      "2                                 NaN          NaN         NaN   \n",
      "3                                 NaN          NaN         NaN   \n",
      "4                                 NaN          NaN         NaN   \n",
      "\n",
      "  competitiveProduct originalFinalPrice originalMetaBriteItemPrice deleted  \\\n",
      "0                NaN                NaN                        NaN     NaN   \n",
      "1                NaN                NaN                        NaN     NaN   \n",
      "2                NaN                NaN                        NaN     NaN   \n",
      "3                NaN                NaN                        NaN     NaN   \n",
      "4                NaN                NaN                        NaN     NaN   \n",
      "\n",
      "  priceAfterCoupon metabriteCampaignId  \n",
      "0              NaN                 NaN  \n",
      "1              NaN                 NaN  \n",
      "2              NaN                 NaN  \n",
      "3              NaN                 NaN  \n",
      "4              NaN                 NaN  \n",
      "\n",
      "[5 rows x 34 columns]\n"
     ]
    }
   ],
   "source": [
    "import pandas as pd\n",
    "\n",
    "def load_and_normalize_json(file_path, explode_column=None, sep='_', n_preview=5):\n",
    "    try:\n",
    "        #read and normalize the data \n",
    "        df = pd.read_json(file_path, lines=True)            \n",
    "        df = pd.json_normalize(df.to_dict(orient='records'), sep=sep) \n",
    "        \n",
    "        # Explode nested column if specified\n",
    "        if explode_column:\n",
    "            df = df.explode(explode_column)\n",
    "            df = pd.json_normalize(df[explode_column].dropna(), sep=sep)\n",
    "\n",
    "        # Preview the data\n",
    "        print(f\"\\nPreview of {file_path}:\")\n",
    "        print(df.head(n_preview))\n",
    "        \n",
    "        return df\n",
    "    \n",
    "    except Exception as e:\n",
    "        print(f\"Error loading {file_path}: {e}\")\n",
    "        return pd.DataFrame()  # Return empty DataFrame on error\n",
    "    \n",
    "# Load and normalize data from JSON files\n",
    "users_df = load_and_normalize_json('users.json')\n",
    "brands_df = load_and_normalize_json('brands.json')\n",
    "receipts_df = load_and_normalize_json('receipts.json', explode_column='rewardsReceiptItemList')\n"
   ]
  },
  {
   "cell_type": "markdown",
   "id": "8b5d8df7",
   "metadata": {},
   "source": [
    "## Convert json to csv "
   ]
  },
  {
   "cell_type": "code",
   "execution_count": null,
   "id": "d775144a",
   "metadata": {},
   "outputs": [
    {
     "name": "stdout",
     "output_type": "stream",
     "text": [
      "users.csv created successfully!\n",
      "brands.csv created successfully!\n",
      "receipts.csv created successfully!\n",
      "receipt_items.csv created successfully!\n"
     ]
    }
   ],
   "source": [
    "import pandas as pd\n",
    "\n",
    "def convert_json_to_csv():\n",
    "    # Load JSON data, normalize, and export to CSV files for SQL querying.\n",
    "    try:\n",
    "        # Load and normalize users data\n",
    "        users_df = pd.read_json('users.json', lines=True)\n",
    "        users_df = pd.json_normalize(users_df.to_dict(orient='records'), sep='_')\n",
    "        users_df.to_csv('users.csv', index=False)                                         #creates users.csv file\n",
    "        print(\"users.csv created successfully!\")\n",
    "\n",
    "        # Load and normalize brands data\n",
    "        brands_df = pd.read_json('brands.json', lines=True)\n",
    "        brands_df = pd.json_normalize(brands_df.to_dict(orient='records'), sep='_')\n",
    "        brands_df.to_csv('brands.csv', index=False)                                         #creates brands.csv file\n",
    "        print(\"brands.csv created successfully!\")\n",
    "\n",
    "        # Load and normalize receipts data\n",
    "        receipts_df = pd.read_json('receipts.json', lines=True)\n",
    "        receipts_df = pd.json_normalize(receipts_df.to_dict(orient='records'), sep='_')\n",
    "        receipts_df.to_csv('receipts.csv', index=False)                                     #creates receipts.csv file\n",
    "        print(\"receipts.csv created successfully!\")\n",
    "\n",
    "        # Explode and normalize 'rewardsReceiptItemList' in a separate csv file\n",
    "        receipt_items_df = receipts_df.explode('rewardsReceiptItemList')\n",
    "        receipt_items_df = pd.json_normalize(\n",
    "            receipt_items_df['rewardsReceiptItemList'].dropna(), sep='_'\n",
    "        )\n",
    "        receipt_items_df.to_csv('receipt_items.csv', index=False)                             #creates receipt_items.csv file\n",
    "        print(\"receipt_items.csv created successfully!\")\n",
    "\n",
    "    except Exception as e:\n",
    "        print(f\"Error: {e}\")\n",
    "\n",
    "# Run the conversion function\n",
    "convert_json_to_csv()\n"
   ]
  }
 ],
 "metadata": {
  "kernelspec": {
   "display_name": ".fetch-rewards",
   "language": "python",
   "name": "python3"
  },
  "language_info": {
   "codemirror_mode": {
    "name": "ipython",
    "version": 3
   },
   "file_extension": ".py",
   "mimetype": "text/x-python",
   "name": "python",
   "nbconvert_exporter": "python",
   "pygments_lexer": "ipython3",
   "version": "3.11.2"
  }
 },
 "nbformat": 4,
 "nbformat_minor": 5
}
