{
 "cells": [
  {
   "cell_type": "markdown",
   "metadata": {},
   "source": [
    "### Install the library"
   ]
  },
  {
   "cell_type": "code",
   "execution_count": 1,
   "metadata": {},
   "outputs": [
    {
     "name": "stdout",
     "output_type": "stream",
     "text": [
      "Collecting mysql-connector-python\n",
      "  Downloading mysql_connector_python-9.2.0-cp311-cp311-macosx_14_0_arm64.whl.metadata (6.0 kB)\n",
      "Downloading mysql_connector_python-9.2.0-cp311-cp311-macosx_14_0_arm64.whl (15.1 MB)\n",
      "\u001b[2K   \u001b[90m━━━━━━━━━━━━━━━━━━━━━━━━━━━━━━━━━━━━━━━━\u001b[0m \u001b[32m15.1/15.1 MB\u001b[0m \u001b[31m56.4 MB/s\u001b[0m eta \u001b[36m0:00:00\u001b[0m \u001b[36m0:00:01\u001b[0m\n",
      "\u001b[?25hInstalling collected packages: mysql-connector-python\n",
      "Successfully installed mysql-connector-python-9.2.0\n"
     ]
    }
   ],
   "source": [
    "%pip install mysql-connector-python"
   ]
  },
  {
   "cell_type": "markdown",
   "metadata": {},
   "source": [
    "### Upload users_data.csv to MYSQL workbench"
   ]
  },
  {
   "cell_type": "code",
   "execution_count": 3,
   "metadata": {},
   "outputs": [
    {
     "name": "stdout",
     "output_type": "stream",
     "text": [
      "Data inserted successfully!\n"
     ]
    }
   ],
   "source": [
    "import pandas as pd\n",
    "import mysql.connector\n",
    "\n",
    "db_config = {\n",
    "    'host': 'localhost',\n",
    "    'user': 'root',\n",
    "    'password': 'Vishruti@123',\n",
    "    'database': 'fetch_challenge',\n",
    "}\n",
    "\n",
    "csv_file_path = '/Users/vishruti/workspace/fetch-rewards-analysis/SQL_queries/users_data.csv'\n",
    "df = pd.read_csv(csv_file_path)\n",
    "\n",
    "# Replace NaN with None to handle NULL values in MySQL\n",
    "df = df.where(pd.notnull(df), None)\n",
    "\n",
    "try:\n",
    "    cnx = mysql.connector.connect(**db_config)\n",
    "    cursor = cnx.cursor()\n",
    "\n",
    "    for _, row in df.iterrows():\n",
    "        query = \"\"\"\n",
    "        INSERT INTO users_data \n",
    "        (user_id, active, created_date, last_login, role, signup_source, state) \n",
    "        VALUES (%s, %s, %s, %s, %s, %s, %s)\n",
    "        \"\"\"\n",
    "        values = tuple(row)\n",
    "        cursor.execute(query, values)\n",
    "\n",
    "    cnx.commit()\n",
    "    print(\"Data inserted successfully!\")\n",
    "\n",
    "except mysql.connector.Error as err:\n",
    "    print(f\"Error: {err}\")\n",
    "\n",
    "finally:\n",
    "    if 'cursor' in locals():\n",
    "        cursor.close()\n",
    "    if 'cnx' in locals():\n",
    "        cnx.close()\n"
   ]
  },
  {
   "cell_type": "markdown",
   "metadata": {},
   "source": [
    "### Upload brands_data.csv to MYSQL workbench"
   ]
  },
  {
   "cell_type": "code",
   "execution_count": 17,
   "metadata": {},
   "outputs": [
    {
     "name": "stdout",
     "output_type": "stream",
     "text": [
      "Data inserted successfully!\n"
     ]
    }
   ],
   "source": [
    "import pandas as pd\n",
    "import mysql.connector\n",
    "\n",
    "db_config = {\n",
    "    'host': 'localhost',\n",
    "    'user': 'root',\n",
    "    'password': 'Vishruti@123',\n",
    "    'database': 'fetch_challenge',\n",
    "}\n",
    "\n",
    "csv_file_path = '/Users/vishruti/workspace/fetch-rewards-analysis/SQL_queries/brands_data.csv'\n",
    "df = pd.read_csv(csv_file_path)\n",
    "\n",
    "# Replace NaN with None to handle NULL values in MySQL\n",
    "df = df.where(pd.notnull(df), None)\n",
    "\n",
    "try:\n",
    "    cnx = mysql.connector.connect(**db_config)\n",
    "    cursor = cnx.cursor()\n",
    "\n",
    "    for _, row in df.iterrows():\n",
    "        query = \"\"\"\n",
    "        INSERT INTO brands_data \n",
    "        (brand_id, barcode, brand_code, category, category_code, name, top_brand, cpg_id) \n",
    "        VALUES (%s, %s, %s, %s, %s, %s, %s, %s)\n",
    "        \"\"\"\n",
    "        values = tuple(row)\n",
    "        cursor.execute(query, values)\n",
    "\n",
    "    cnx.commit()\n",
    "    print(\"Data inserted successfully!\")\n",
    "\n",
    "except mysql.connector.Error as err:\n",
    "    print(f\"Error: {err}\")\n",
    "\n",
    "finally:\n",
    "    if 'cursor' in locals():\n",
    "        cursor.close()\n",
    "    if 'cnx' in locals():\n",
    "        cnx.close()\n"
   ]
  },
  {
   "cell_type": "markdown",
   "metadata": {},
   "source": [
    "### Upload cpgs_data.csv to MYSQL workbench"
   ]
  },
  {
   "cell_type": "code",
   "execution_count": 18,
   "metadata": {},
   "outputs": [
    {
     "name": "stdout",
     "output_type": "stream",
     "text": [
      "Data inserted successfully!\n"
     ]
    }
   ],
   "source": [
    "import pandas as pd\n",
    "import mysql.connector\n",
    "\n",
    "db_config = {\n",
    "    'host': 'localhost',\n",
    "    'user': 'root',\n",
    "    'password': 'Vishruti@123',\n",
    "    'database': 'fetch_challenge',\n",
    "}\n",
    "\n",
    "csv_file_path = '/Users/vishruti/workspace/fetch-rewards-analysis/SQL_queries/cpgs_data.csv'\n",
    "df = pd.read_csv(csv_file_path)\n",
    "\n",
    "# Replace NaN with None to handle NULL values in MySQL\n",
    "df = df.where(pd.notnull(df), None)\n",
    "\n",
    "try:\n",
    "    cnx = mysql.connector.connect(**db_config)\n",
    "    cursor = cnx.cursor()\n",
    "\n",
    "    for _, row in df.iterrows():\n",
    "        query = \"\"\"\n",
    "        INSERT INTO cpgs_data \n",
    "        (cpg_id, name) \n",
    "        VALUES (%s, %s)\n",
    "        \"\"\"\n",
    "        values = tuple(row)\n",
    "        cursor.execute(query, values)\n",
    "\n",
    "    cnx.commit()\n",
    "    print(\"Data inserted successfully!\")\n",
    "\n",
    "except mysql.connector.Error as err:\n",
    "    print(f\"Error: {err}\")\n",
    "\n",
    "finally:\n",
    "    if 'cursor' in locals():\n",
    "        cursor.close()\n",
    "    if 'cnx' in locals():\n",
    "        cnx.close()\n"
   ]
  },
  {
   "cell_type": "markdown",
   "metadata": {},
   "source": [
    "### Upload receipts.csv to MYSQL"
   ]
  },
  {
   "cell_type": "code",
   "execution_count": 30,
   "metadata": {},
   "outputs": [
    {
     "name": "stdout",
     "output_type": "stream",
     "text": [
      "Data inserted successfully!\n"
     ]
    }
   ],
   "source": [
    "import pandas as pd\n",
    "import mysql.connector\n",
    "\n",
    "db_config = {\n",
    "    'host': 'localhost',\n",
    "    'user': 'root',\n",
    "    'password': 'Vishruti@123',\n",
    "    'database': 'fetch_challenge',\n",
    "}\n",
    "\n",
    "csv_file_path = '/Users/vishruti/workspace/fetch-rewards-analysis/SQL_queries/receipts_data.csv'\n",
    "df = pd.read_csv(csv_file_path)\n",
    "\n",
    "# Replace NaN with None to handle NULL values in MySQL\n",
    "df = df.where(pd.notnull(df), None)\n",
    "\n",
    "df = df.astype(str).map(lambda x: x if x != 'nan' else None)\n",
    "\n",
    "\n",
    "try:\n",
    "    cnx = mysql.connector.connect(**db_config)\n",
    "    cursor = cnx.cursor()\n",
    "\n",
    "    for _, row in df.iterrows():\n",
    "        query = \"\"\"\n",
    "        INSERT INTO receipts_data \n",
    "        (r_id,bonus_points_earned,bonus_points_earned_reason,create_date,date_scanned,finished_date,modify_date,points_awarded_date,points_earned,purchase_date,purchased_item_count,rewards_receipt_status,total_spent,user_id) \n",
    "        VALUES (%s, %s, %s, %s, %s, %s, %s, %s, %s, %s, %s, %s, %s, %s)\n",
    "        \"\"\"\n",
    "        values = tuple(row)\n",
    "        cursor.execute(query, values)\n",
    "\n",
    "    cnx.commit()\n",
    "    print(\"Data inserted successfully!\")\n",
    "\n",
    "except mysql.connector.Error as err:\n",
    "    print(f\"Error: {err}\")\n",
    "\n",
    "finally:\n",
    "    if 'cursor' in locals():\n",
    "        cursor.close()\n",
    "    if 'cnx' in locals():\n",
    "        cnx.close()"
   ]
  },
  {
   "cell_type": "markdown",
   "metadata": {},
   "source": [
    "### Upload receipt_items_data.csv to MYSQL"
   ]
  },
  {
   "cell_type": "code",
   "execution_count": 37,
   "metadata": {},
   "outputs": [
    {
     "name": "stdout",
     "output_type": "stream",
     "text": [
      "Data inserted successfully!\n"
     ]
    }
   ],
   "source": [
    "import pandas as pd\n",
    "import mysql.connector\n",
    "\n",
    "db_config = {\n",
    "    'host': 'localhost',\n",
    "    'user': 'root',\n",
    "    'password': 'Vishruti@123',\n",
    "    'database': 'fetch_challenge',\n",
    "}\n",
    "\n",
    "csv_file_path = '/Users/vishruti/workspace/fetch-rewards-analysis/SQL_queries/receipt_items_data.csv'\n",
    "df = pd.read_csv(csv_file_path)\n",
    "\n",
    "# Replace NaN with None to handle NULL values in MySQL\n",
    "df = df.where(pd.notnull(df), None)\n",
    "\n",
    "df = df.astype(str).map(lambda x: x if x != 'nan' else None)\n",
    "\n",
    "\n",
    "try:\n",
    "    cnx = mysql.connector.connect(**db_config)\n",
    "    cursor = cnx.cursor()\n",
    "\n",
    "    for _, row in df.iterrows():\n",
    "        query = \"\"\"\n",
    "        INSERT INTO receipt_items_data \n",
    "        (receipt_id, barcode, description, final_price, item_price, quantity_purchased, needs_fetch_review, needs_fetch_review_reason, partner_item_id, prevent_target_gap_points, user_flagged_barcode, user_flagged_description, user_flagged_new_item, user_flagged_price, user_flagged_quantity, points_not_awarded_reason, points_payer_id, rewards_group, rewards_product_partner_id) \n",
    "        VALUES (%s, %s, %s, %s, %s, %s, %s, %s, %s, %s, %s, %s, %s, %s, %s, %s, %s, %s, %s)\n",
    "        \"\"\"\n",
    "        values = tuple(row)\n",
    "        cursor.execute(query, values)\n",
    "\n",
    "    cnx.commit()\n",
    "    print(\"Data inserted successfully!\")\n",
    "\n",
    "except mysql.connector.Error as err:\n",
    "    print(f\"Error: {err}\")\n",
    "\n",
    "finally:\n",
    "    if 'cursor' in locals():\n",
    "        cursor.close()\n",
    "    if 'cnx' in locals():\n",
    "        cnx.close()"
   ]
  }
 ],
 "metadata": {
  "kernelspec": {
   "display_name": ".fetch-rewards",
   "language": "python",
   "name": "python3"
  },
  "language_info": {
   "codemirror_mode": {
    "name": "ipython",
    "version": 3
   },
   "file_extension": ".py",
   "mimetype": "text/x-python",
   "name": "python",
   "nbconvert_exporter": "python",
   "pygments_lexer": "ipython3",
   "version": "3.11.2"
  }
 },
 "nbformat": 4,
 "nbformat_minor": 2
}
