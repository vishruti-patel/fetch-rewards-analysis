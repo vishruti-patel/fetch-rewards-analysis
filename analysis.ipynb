{
 "cells": [
  {
   "cell_type": "markdown",
   "id": "150c9d7c",
   "metadata": {},
   "source": [
    "## Loading the json data"
   ]
  },
  {
   "cell_type": "code",
   "execution_count": 14,
   "id": "9a51cecc",
   "metadata": {},
   "outputs": [
    {
     "name": "stdout",
     "output_type": "stream",
     "text": [
      "Success: JSON Loaded from users.json\n",
      "Success: JSON Loaded from brands.json\n",
      "Success: JSON Loaded from receipts.json\n"
     ]
    }
   ],
   "source": [
    "import pandas as pd\n",
    "import json\n",
    "\n",
    "#Loading the json files\n",
    "def load_json_file(file_path): \n",
    "    try:\n",
    "        with open(file_path, \"r\", encoding=\"utf-8\") as file:\n",
    "            data = [json.loads(line) for line in file]  \n",
    "        print(f\"Success: JSON Loaded from {file_path}\")\n",
    "        return data\n",
    "    except json.JSONDecodeError as e:\n",
    "        print(f\"Failed: Error loading JSON from {file_path}: {e}\")  # Handle JSON formatting errors\n",
    "        return None\n",
    "    except FileNotFoundError:\n",
    "        print(f\"File not found: {file_path}\")   # Handle missing files\n",
    "        return None\n",
    "    except Exception as e:\n",
    "        print(f\"An unexpected error occurred: {e}\") # Catch any other unexpected errors\n",
    "        return None\n",
    "    \n",
    "# Load JSON files into Python lists\n",
    "users_data = load_json_file(\"users.json\")\n",
    "brands_data = load_json_file(\"brands.json\")\n",
    "receipts_data = load_json_file(\"receipts.json\")"
   ]
  },
  {
   "cell_type": "markdown",
   "id": "314814b0",
   "metadata": {},
   "source": [
    "## Read and normalize the json data"
   ]
  },
  {
   "cell_type": "code",
   "execution_count": null,
   "id": "47a5db48",
   "metadata": {},
   "outputs": [],
   "source": [
    "import pandas as pd\n",
    "\n",
    "def load_and_normalize_json(file_path, explode_column=None, sep='_', n_preview=5):\n",
    "    try:\n",
    "        #read and normalize the data \n",
    "        df = pd.read_json(file_path, lines=True)            \n",
    "        df = pd.json_normalize(df.to_dict(orient='records'), sep=sep) \n",
    "        \n",
    "        # Explode nested column if specified\n",
    "        if explode_column:\n",
    "            df = df.explode(explode_column)\n",
    "            df = pd.json_normalize(df[explode_column].dropna(), sep=sep)\n",
    "\n",
    "        # Preview the data\n",
    "        print(f\"\\nPreview of {file_path}:\")\n",
    "        print(df.head(n_preview))\n",
    "        \n",
    "        return df\n",
    "    \n",
    "    except Exception as e:\n",
    "        print(f\"Error loading {file_path}: {e}\")\n",
    "        return pd.DataFrame()  # Return empty DataFrame on error\n",
    "    \n",
    "# Load and normalize data from JSON files\n",
    "users_df = load_and_normalize_json('users.json')\n",
    "brands_df = load_and_normalize_json('brands.json')\n",
    "receipts_df = load_and_normalize_json('receipts.json', explode_column='rewardsReceiptItemList')\n"
   ]
  }
 ],
 "metadata": {
  "kernelspec": {
   "display_name": ".fetch-rewards",
   "language": "python",
   "name": "python3"
  },
  "language_info": {
   "codemirror_mode": {
    "name": "ipython",
    "version": 3
   },
   "file_extension": ".py",
   "mimetype": "text/x-python",
   "name": "python",
   "nbconvert_exporter": "python",
   "pygments_lexer": "ipython3",
   "version": "3.11.2"
  }
 },
 "nbformat": 4,
 "nbformat_minor": 5
}
